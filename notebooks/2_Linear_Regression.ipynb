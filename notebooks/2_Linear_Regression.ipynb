{
 "cells": [
  {
   "cell_type": "code",
   "execution_count": 1,
   "id": "1f138b1d-a946-46f3-ab56-a0f07c125d71",
   "metadata": {},
   "outputs": [
    {
     "name": "stdout",
     "output_type": "stream",
     "text": [
      "\u001b[31mAdvertising.csv\u001b[m\u001b[m \u001b[31mBrainCancer.csv\u001b[m\u001b[m \u001b[31mCredit.csv\u001b[m\u001b[m      \u001b[31mIncome1.csv\u001b[m\u001b[m     \u001b[31mSmarket.csv\u001b[m\u001b[m\n",
      "\u001b[31mAuto.csv\u001b[m\u001b[m        \u001b[31mCaravan.csv\u001b[m\u001b[m     \u001b[31mDefault.csv\u001b[m\u001b[m     \u001b[31mIncome2.csv\u001b[m\u001b[m     \u001b[31mWage.csv\u001b[m\u001b[m\n",
      "\u001b[31mAuto.data\u001b[m\u001b[m       \u001b[31mCarseats.csv\u001b[m\u001b[m    \u001b[31mFund.csv\u001b[m\u001b[m        \u001b[31mOJ.csv\u001b[m\u001b[m          \u001b[31mWeekly.csv\u001b[m\u001b[m\n",
      "\u001b[31mBikeshare.csv\u001b[m\u001b[m   \u001b[31mCh12Ex13.csv\u001b[m\u001b[m    \u001b[31mHeart.csv\u001b[m\u001b[m       \u001b[31mPortfolio.csv\u001b[m\u001b[m\n",
      "\u001b[31mBoston.csv\u001b[m\u001b[m      \u001b[31mCollege.csv\u001b[m\u001b[m     \u001b[31mHitters.csv\u001b[m\u001b[m     \u001b[31mPublication.csv\u001b[m\u001b[m\n"
     ]
    }
   ],
   "source": [
    "!ls ../data"
   ]
  },
  {
   "cell_type": "markdown",
   "id": "db7d1b36-a5e8-4c83-9997-823c48b2a967",
   "metadata": {},
   "source": [
    "## 1. Importing Packages"
   ]
  },
  {
   "cell_type": "code",
   "execution_count": 3,
   "id": "cedb8cc7-6108-4195-b120-e1c15192489b",
   "metadata": {},
   "outputs": [],
   "source": [
    "import numpy as np\n",
    "import pandas as pd\n",
    "from matplotlib.pyplot import subplots"
   ]
  },
  {
   "cell_type": "markdown",
   "id": "0231df7a-22fb-4f32-a17e-e48df18a3f37",
   "metadata": {},
   "source": [
    "### New Imports"
   ]
  },
  {
   "cell_type": "code",
   "execution_count": 4,
   "id": "8ccc8294-1130-456f-9c3b-92919a914ec2",
   "metadata": {},
   "outputs": [],
   "source": [
    "import statsmodels.api as sm"
   ]
  },
  {
   "cell_type": "code",
   "execution_count": 5,
   "id": "71410707-ee78-4b27-8f0f-98a7fcbf7cc9",
   "metadata": {},
   "outputs": [],
   "source": [
    "from statsmodels.stats.outliers_influence import variance_inflation_factor as VIF"
   ]
  },
  {
   "cell_type": "code",
   "execution_count": 6,
   "id": "6f7d1e44-1fd2-4672-b39f-ec26d5086178",
   "metadata": {},
   "outputs": [],
   "source": [
    "from statsmodels.stats.anova import anova_lm"
   ]
  },
  {
   "cell_type": "markdown",
   "id": "586f6428-3418-4abe-9c69-ad9789f13174",
   "metadata": {},
   "source": [
    "## 2. Simple Linear Regression"
   ]
  },
  {
   "cell_type": "code",
   "execution_count": null,
   "id": "011a2593-d199-4d44-a17c-9bd8b8a2ef49",
   "metadata": {},
   "outputs": [],
   "source": [
    "Boston = pd.read_csv(\"../data/Boston.csv\",\n",
    "                     "
   ]
  }
 ],
 "metadata": {
  "kernelspec": {
   "display_name": "Python 3 (ipykernel)",
   "language": "python",
   "name": "python3"
  },
  "language_info": {
   "codemirror_mode": {
    "name": "ipython",
    "version": 3
   },
   "file_extension": ".py",
   "mimetype": "text/x-python",
   "name": "python",
   "nbconvert_exporter": "python",
   "pygments_lexer": "ipython3",
   "version": "3.11.10"
  }
 },
 "nbformat": 4,
 "nbformat_minor": 5
}
