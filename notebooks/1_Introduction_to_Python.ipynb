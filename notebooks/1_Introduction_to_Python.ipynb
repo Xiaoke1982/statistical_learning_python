{
 "cells": [
  {
   "cell_type": "markdown",
   "id": "5160c768-f126-415a-9fe0-659905ca8614",
   "metadata": {},
   "source": [
    "## 1. Basic Python Commands"
   ]
  },
  {
   "cell_type": "code",
   "execution_count": 3,
   "id": "85305ba5-ff47-4e7b-8bf2-476e00829321",
   "metadata": {},
   "outputs": [
    {
     "data": {
      "text/plain": [
       "[1, 2, 3, 4, 5, 6]"
      ]
     },
     "execution_count": 3,
     "metadata": {},
     "output_type": "execute_result"
    }
   ],
   "source": [
    "x = [1,2,3]\n",
    "y = [4,5,6]\n",
    "x + y"
   ]
  },
  {
   "cell_type": "markdown",
   "id": "ed8820af-40fd-44cd-bc4a-c84247bfe7b7",
   "metadata": {},
   "source": [
    "## 2. Introduction to Numpy"
   ]
  },
  {
   "cell_type": "code",
   "execution_count": 4,
   "id": "6668518c-833c-4beb-89ff-c5b50c728b4f",
   "metadata": {},
   "outputs": [],
   "source": [
    "import numpy as np"
   ]
  },
  {
   "cell_type": "markdown",
   "id": "dd565a40-4ff8-43af-b104-651048ab1bb0",
   "metadata": {
    "jp-MarkdownHeadingCollapsed": true
   },
   "source": [
    "### `x + y`"
   ]
  },
  {
   "cell_type": "code",
   "execution_count": 5,
   "id": "1dc18cb9-6280-45ee-b045-22c7c65efc54",
   "metadata": {},
   "outputs": [
    {
     "data": {
      "text/plain": [
       "array([5, 7, 9])"
      ]
     },
     "execution_count": 5,
     "metadata": {},
     "output_type": "execute_result"
    }
   ],
   "source": [
    "x = np.array([1,2,3])\n",
    "y = np.array([4,5,6])\n",
    "x + y "
   ]
  },
  {
   "cell_type": "markdown",
   "id": "416158d9-ffe3-4722-ae53-a60449d7b393",
   "metadata": {
    "jp-MarkdownHeadingCollapsed": true
   },
   "source": [
    "###  `x.ndim`, `x.dtype`, `x.shape`"
   ]
  },
  {
   "cell_type": "code",
   "execution_count": 16,
   "id": "24b6e15a-910b-47e5-83b3-27eb8be8ff04",
   "metadata": {},
   "outputs": [
    {
     "data": {
      "text/plain": [
       "array([[1, 3],\n",
       "       [3, 5]])"
      ]
     },
     "execution_count": 16,
     "metadata": {},
     "output_type": "execute_result"
    }
   ],
   "source": [
    "# two-dimensional array\n",
    "x = np.array([[1,3],\n",
    "              [3,5]])\n",
    "x"
   ]
  },
  {
   "cell_type": "code",
   "execution_count": 17,
   "id": "4fcc30c4-b84e-4cfe-9f9e-1269e7e1dbfd",
   "metadata": {},
   "outputs": [
    {
     "data": {
      "text/plain": [
       "2"
      ]
     },
     "execution_count": 17,
     "metadata": {},
     "output_type": "execute_result"
    }
   ],
   "source": [
    "x.ndim  # number of dimensions"
   ]
  },
  {
   "cell_type": "code",
   "execution_count": 18,
   "id": "381437f4-4599-4c6c-862d-ae7b97f2aa5d",
   "metadata": {},
   "outputs": [
    {
     "data": {
      "text/plain": [
       "dtype('int64')"
      ]
     },
     "execution_count": 18,
     "metadata": {},
     "output_type": "execute_result"
    }
   ],
   "source": [
    "x.dtype"
   ]
  },
  {
   "cell_type": "code",
   "execution_count": 14,
   "id": "ad538c19-5a7f-446b-9026-92d038a636fd",
   "metadata": {},
   "outputs": [
    {
     "data": {
      "text/plain": [
       "(2, 2)"
      ]
     },
     "execution_count": 14,
     "metadata": {},
     "output_type": "execute_result"
    }
   ],
   "source": [
    "x.shape"
   ]
  },
  {
   "cell_type": "code",
   "execution_count": 15,
   "id": "37a576b6-ad9f-483f-8792-a19e7c523d34",
   "metadata": {},
   "outputs": [
    {
     "data": {
      "text/plain": [
       "tuple"
      ]
     },
     "execution_count": 15,
     "metadata": {},
     "output_type": "execute_result"
    }
   ],
   "source": [
    "type(x.shape)"
   ]
  },
  {
   "cell_type": "markdown",
   "id": "e5c7ba55-49c3-4705-8984-8e5629c1130d",
   "metadata": {
    "jp-MarkdownHeadingCollapsed": true
   },
   "source": [
    "### `x.sum()`, `np.sum(x)`"
   ]
  },
  {
   "cell_type": "code",
   "execution_count": 19,
   "id": "c995194a-3d87-4f4e-a010-72a8941d9136",
   "metadata": {},
   "outputs": [
    {
     "data": {
      "text/plain": [
       "10"
      ]
     },
     "execution_count": 19,
     "metadata": {},
     "output_type": "execute_result"
    }
   ],
   "source": [
    "x = np.array([1,2,3,4])\n",
    "x.sum()"
   ]
  },
  {
   "cell_type": "code",
   "execution_count": 20,
   "id": "6c17d792-0fc6-4d5a-98d7-999476fad760",
   "metadata": {},
   "outputs": [
    {
     "data": {
      "text/plain": [
       "10"
      ]
     },
     "execution_count": 20,
     "metadata": {},
     "output_type": "execute_result"
    }
   ],
   "source": [
    "np.sum(x)"
   ]
  },
  {
   "cell_type": "markdown",
   "id": "987204ee-c831-478a-9ab6-56ea043886fb",
   "metadata": {
    "jp-MarkdownHeadingCollapsed": true
   },
   "source": [
    "### `x.reshape()`, `x.T`"
   ]
  },
  {
   "cell_type": "code",
   "execution_count": 27,
   "id": "203b6016-f4d1-4c9b-bcfd-590656c2a583",
   "metadata": {},
   "outputs": [
    {
     "data": {
      "text/plain": [
       "array([[1, 2, 3],\n",
       "       [4, 5, 6]])"
      ]
     },
     "execution_count": 27,
     "metadata": {},
     "output_type": "execute_result"
    }
   ],
   "source": [
    "x = np.array([1,2,3,4,5,6])\n",
    "x = x.reshape((2,3))  #reshape a array\n",
    "x"
   ]
  },
  {
   "cell_type": "code",
   "execution_count": 28,
   "id": "ee780f2d-5970-47ee-9582-b2abcf51e0ea",
   "metadata": {},
   "outputs": [
    {
     "data": {
      "text/plain": [
       "2"
      ]
     },
     "execution_count": 28,
     "metadata": {},
     "output_type": "execute_result"
    }
   ],
   "source": [
    "x[0,1]"
   ]
  },
  {
   "cell_type": "code",
   "execution_count": 29,
   "id": "043b3c33-37c6-49cb-9d74-08de2daa4f3d",
   "metadata": {},
   "outputs": [
    {
     "data": {
      "text/plain": [
       "array([[999,   2,   3],\n",
       "       [  4,   5,   6]])"
      ]
     },
     "execution_count": 29,
     "metadata": {},
     "output_type": "execute_result"
    }
   ],
   "source": [
    "x[0,0] = 999\n",
    "x"
   ]
  },
  {
   "cell_type": "code",
   "execution_count": 30,
   "id": "910f11e3-a901-419c-a30e-6655489f3c95",
   "metadata": {},
   "outputs": [
    {
     "data": {
      "text/plain": [
       "array([[999,   4],\n",
       "       [  2,   5],\n",
       "       [  3,   6]])"
      ]
     },
     "execution_count": 30,
     "metadata": {},
     "output_type": "execute_result"
    }
   ],
   "source": [
    "x.T"
   ]
  },
  {
   "cell_type": "code",
   "execution_count": 31,
   "id": "62952cf3-3efc-4d38-b83f-ab32e80882b9",
   "metadata": {},
   "outputs": [
    {
     "data": {
      "text/plain": [
       "((2, 3),\n",
       " 2,\n",
       " array([[999,   4],\n",
       "        [  2,   5],\n",
       "        [  3,   6]]))"
      ]
     },
     "execution_count": 31,
     "metadata": {},
     "output_type": "execute_result"
    }
   ],
   "source": [
    "x.shape, x.ndim, x.T  #output is a tuple"
   ]
  },
  {
   "cell_type": "markdown",
   "id": "8be0b0d4-8739-4927-b652-bee9cd71fdbc",
   "metadata": {
    "jp-MarkdownHeadingCollapsed": true
   },
   "source": [
    "### `np.sqrt(x)`, `x**2`, `x**0.5`"
   ]
  },
  {
   "cell_type": "code",
   "execution_count": 32,
   "id": "69be1185-d4b1-442d-9804-d3c8429dd3e6",
   "metadata": {},
   "outputs": [
    {
     "data": {
      "text/plain": [
       "array([1.41421356, 1.73205081, 2.        , 2.23606798])"
      ]
     },
     "execution_count": 32,
     "metadata": {},
     "output_type": "execute_result"
    }
   ],
   "source": [
    "x = np.array([2,3,4,5])\n",
    "\n",
    "np.sqrt(x)"
   ]
  },
  {
   "cell_type": "code",
   "execution_count": 33,
   "id": "11ebd41b-8c93-434c-ab07-87a9be1fab7a",
   "metadata": {},
   "outputs": [
    {
     "data": {
      "text/plain": [
       "array([ 4,  9, 16, 25])"
      ]
     },
     "execution_count": 33,
     "metadata": {},
     "output_type": "execute_result"
    }
   ],
   "source": [
    "x**2"
   ]
  },
  {
   "cell_type": "code",
   "execution_count": 34,
   "id": "0e0db956-84ef-4946-a2a4-22c274237537",
   "metadata": {},
   "outputs": [
    {
     "data": {
      "text/plain": [
       "array([1.41421356, 1.73205081, 2.        , 2.23606798])"
      ]
     },
     "execution_count": 34,
     "metadata": {},
     "output_type": "execute_result"
    }
   ],
   "source": [
    "x**0.5"
   ]
  },
  {
   "cell_type": "markdown",
   "id": "46169fb8-a16c-4d49-a38e-dedba323103e",
   "metadata": {},
   "source": [
    "### `np.random.normal()`, `np.corrcoef(x, y)`"
   ]
  },
  {
   "cell_type": "code",
   "execution_count": 38,
   "id": "4d384335-4ea1-46f4-b3f1-d11bd0a380dc",
   "metadata": {},
   "outputs": [
    {
     "data": {
      "text/plain": [
       "array([ 0.4321877 , -0.27001208, -0.85613143,  0.4551613 ,  0.61991003,\n",
       "       -0.7643731 , -1.02380919, -0.4920776 ,  0.11112302,  0.30005456,\n",
       "        1.11128581, -1.33334327, -0.66156227,  1.18308531, -0.43090325,\n",
       "        0.94652481, -1.15668134, -0.02009608,  0.62400314,  0.72984108,\n",
       "        0.49135139,  1.04564784, -0.8717486 , -0.36491059,  0.70453782,\n",
       "        0.18558736,  0.23741577, -0.83564294,  0.53924255, -0.2151277 ,\n",
       "       -1.66037949, -0.65802441,  1.93913109,  0.35407047, -1.00971682,\n",
       "        1.03825428,  1.29692993, -0.1312429 ,  1.51808158,  0.4432469 ,\n",
       "       -1.54687153, -0.51150382, -2.01243602, -1.13807306,  0.66134797,\n",
       "        0.14313148, -1.08496805, -0.34832064, -0.81648005, -0.38383444])"
      ]
     },
     "execution_count": 38,
     "metadata": {},
     "output_type": "execute_result"
    }
   ],
   "source": [
    "# N(0, 1) random numbers\n",
    "x = np.random.normal(size = 50)\n",
    "x"
   ]
  },
  {
   "cell_type": "code",
   "execution_count": 39,
   "id": "93f259dc-f790-4641-a6a2-a4af6d75f598",
   "metadata": {},
   "outputs": [
    {
     "data": {
      "text/plain": [
       "array([51.45258101, 48.13574507, 48.82732741, 49.5895827 , 50.51625701,\n",
       "       46.38618593, 48.15153298, 49.51625709, 51.60033161, 51.17359901,\n",
       "       50.45388286, 48.73597279, 49.84547489, 51.1137972 , 50.70664341,\n",
       "       50.04796941, 47.96688317, 49.85871722, 51.40917583, 50.74116698,\n",
       "       49.22337057, 50.13139642, 49.80121056, 49.70306163, 49.24719857,\n",
       "       50.50776628, 51.4325157 , 47.77291709, 51.6484495 , 48.71830928,\n",
       "       50.347161  , 49.95869465, 50.95289906, 50.50533124, 49.56742806,\n",
       "       52.21392473, 52.05452079, 50.77098835, 51.65517261, 50.22363326,\n",
       "       49.19823956, 49.69896209, 48.05308574, 47.84247762, 49.66739516,\n",
       "       48.91935185, 48.20228857, 48.85088078, 49.72848073, 50.26181087])"
      ]
     },
     "execution_count": 39,
     "metadata": {},
     "output_type": "execute_result"
    }
   ],
   "source": [
    "y = x + np.random.normal(loc=50, scale=1, size=50)\n",
    "y"
   ]
  },
  {
   "cell_type": "code",
   "execution_count": 41,
   "id": "3f8c98c1-caf6-4f75-9db4-2d6d2d44b364",
   "metadata": {},
   "outputs": [
    {
     "data": {
      "text/plain": [
       "array([[1.        , 0.65426309],\n",
       "       [0.65426309, 1.        ]])"
      ]
     },
     "execution_count": 41,
     "metadata": {},
     "output_type": "execute_result"
    }
   ],
   "source": [
    "np.corrcoef(x,y)"
   ]
  },
  {
   "cell_type": "markdown",
   "id": "370ddaa6-3429-4d87-8ea4-c42570fe3f4d",
   "metadata": {},
   "source": [
    "### random seeds: `np.random.default_rng(seed)`"
   ]
  },
  {
   "cell_type": "markdown",
   "id": "3f0e1c02-c3ce-464f-beb8-ae9c01b9cd7d",
   "metadata": {},
   "source": [
    "The object `rng` has essentially all the random number generating methods found in `np.random`. Hence, to generate normal data we use `rng.normal()`."
   ]
  },
  {
   "cell_type": "code",
   "execution_count": 42,
   "id": "8e076e7e-82df-46c8-8c13-3f1d013ac115",
   "metadata": {},
   "outputs": [
    {
     "data": {
      "text/plain": [
       "array([ 0.81896526, -0.21497121, -2.03072919,  0.22681229, -0.82806113])"
      ]
     },
     "execution_count": 42,
     "metadata": {},
     "output_type": "execute_result"
    }
   ],
   "source": [
    "rng = np.random.default_rng(1303)\n",
    "rng.normal(size = 5)"
   ]
  },
  {
   "cell_type": "code",
   "execution_count": 44,
   "id": "b9b255c6-4ab2-4fc7-b628-8ab3ad80588d",
   "metadata": {},
   "outputs": [
    {
     "data": {
      "text/plain": [
       "array([ 0.81896526, -0.21497121, -2.03072919,  0.22681229, -0.82806113])"
      ]
     },
     "execution_count": 44,
     "metadata": {},
     "output_type": "execute_result"
    }
   ],
   "source": [
    "rng2 = np.random.default_rng(1303)\n",
    "rng2.normal(size=5)"
   ]
  },
  {
   "cell_type": "code",
   "execution_count": 48,
   "id": "c1d90ede-26b2-44d9-b5c9-378e64b9464d",
   "metadata": {},
   "outputs": [
    {
     "data": {
      "text/plain": [
       "array([ 0.81896526, -0.21497121, -2.03072919,  0.22681229, -0.82806113])"
      ]
     },
     "execution_count": 48,
     "metadata": {},
     "output_type": "execute_result"
    }
   ],
   "source": [
    "np.random.default_rng(1303).normal(size=5)"
   ]
  },
  {
   "cell_type": "markdown",
   "id": "33722c9d-7008-4b16-b430-7edf70910096",
   "metadata": {},
   "source": [
    "### `np.var(y)`, `np.mean(y)`, `np.std(y)`"
   ]
  },
  {
   "cell_type": "code",
   "execution_count": 49,
   "id": "460f4654-dc71-474f-9a34-0ecd2d96aa58",
   "metadata": {},
   "outputs": [
    {
     "data": {
      "text/plain": [
       "(-0.1126795190952861, -0.1126795190952861)"
      ]
     },
     "execution_count": 49,
     "metadata": {},
     "output_type": "execute_result"
    }
   ],
   "source": [
    "rng = np.random.default_rng(3)\n",
    "\n",
    "y = rng.standard_normal(10)\n",
    "\n",
    "np.mean(y), y.mean()"
   ]
  },
  {
   "cell_type": "code",
   "execution_count": null,
   "id": "5ca14b87-5be2-4922-8c83-7946036e43b3",
   "metadata": {},
   "outputs": [],
   "source": []
  }
 ],
 "metadata": {
  "kernelspec": {
   "display_name": "Python 3 (ipykernel)",
   "language": "python",
   "name": "python3"
  },
  "language_info": {
   "codemirror_mode": {
    "name": "ipython",
    "version": 3
   },
   "file_extension": ".py",
   "mimetype": "text/x-python",
   "name": "python",
   "nbconvert_exporter": "python",
   "pygments_lexer": "ipython3",
   "version": "3.11.10"
  }
 },
 "nbformat": 4,
 "nbformat_minor": 5
}
